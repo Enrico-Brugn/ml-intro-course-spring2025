{
  "cells": [
    {
      "cell_type": "markdown",
      "metadata": {
        "id": "_QuRQl-UTG-9"
      },
      "source": [
        "# Introduction to Machine Learning and Data Science: Exploratory Data Analysis (EDA) with Diabetes Dataset\n",
        "\n",
        "This notebook contains exercises for an introductory course on Machine Learning and Data Science, focusing on Exploratory Data Analysis (EDA) using the Pima Indians Diabetes dataset.\n",
        "\n",
        "We will cover essential steps in understanding, cleaning, transforming, and analyzing the data using pandas and matplotlib/seaborn. The exercises are divided into basic, intermediate, and advanced levels.\n",
        "\n",
        "**Estimated Time:** 2 Hours"
      ]
    },
    {
      "cell_type": "markdown",
      "metadata": {
        "id": "H0JHYy_wTG_C"
      },
      "source": [
        "## Setup\n",
        "\n",
        "First, we need to import the necessary libraries and load the dataset. The dataset does not come with headers, so we will define the column names based on common practice for this dataset:\n",
        "\n",
        "1. Pregnancies\n",
        "2. Glucose\n",
        "3. BloodPressure\n",
        "4. SkinThickness\n",
        "5. Insulin\n",
        "6. BMI\n",
        "7. DiabetesPedigreeFunction\n",
        "8. Age\n",
        "9. Outcome (0 for no diabetes, 1 for diabetes)"
      ]
    },
    {
      "cell_type": "code",
      "execution_count": 1,
      "metadata": {
        "id": "Vb7c4An1TG_D"
      },
      "outputs": [
        {
          "name": "stdout",
          "output_type": "stream",
          "text": [
            "   Pregnancies  Glucose  BloodPressure  SkinThickness  Insulin   BMI  \\\n",
            "0            6      148             72             35        0  33.6   \n",
            "1            1       85             66             29        0  26.6   \n",
            "2            8      183             64              0        0  23.3   \n",
            "3            1       89             66             23       94  28.1   \n",
            "4            0      137             40             35      168  43.1   \n",
            "\n",
            "   DiabetesPedigreeFunction  Age  Outcome  \n",
            "0                     0.627   50        1  \n",
            "1                     0.351   31        0  \n",
            "2                     0.672   32        1  \n",
            "3                     0.167   21        0  \n",
            "4                     2.288   33        1  \n"
          ]
        }
      ],
      "source": [
        "import pandas as pd\n",
        "import matplotlib.pyplot as plt\n",
        "import numpy as np\n",
        "import seaborn as sns\n",
        "\n",
        "# URL for the Pima Indians Diabetes dataset\n",
        "url = \"https://raw.githubusercontent.com/jbrownlee/Datasets/master/pima-indians-diabetes.data.csv\"\n",
        "names = ['Pregnancies', 'Glucose', 'BloodPressure', 'SkinThickness', 'Insulin', 'BMI', 'DiabetesPedigreeFunction', 'Age', 'Outcome']\n",
        "\n",
        "# Load the dataset\n",
        "diabetes_df = pd.read_csv(url, names=names)\n",
        "\n",
        "# Display the first few rows to confirm loading\n",
        "print(diabetes_df.head())"
      ]
    },
    {
      "cell_type": "markdown",
      "metadata": {
        "id": "VbdtigokTG_E"
      },
      "source": [
        "## Basic Exercises (Approx. 45-60 minutes)\n",
        "\n",
        "These exercises focus on fundamental data exploration and manipulation using pandas and basic visualization."
      ]
    },
    {
      "cell_type": "markdown",
      "metadata": {
        "id": "scTDJg-5TG_F"
      },
      "source": [
        "### Exercise 1: Initial Data Inspection\n",
        "\n",
        "1. Display the last 7 rows of the `diabetes_df` DataFrame.\n",
        "2. Get a concise summary of the DataFrame using `.info()`. How many entries are there? What are the data types?\n",
        "3. Generate a statistical summary of the numerical attributes using `.describe()`. Pay attention to the minimum values for columns like `Glucose`, `BloodPressure`, `SkinThickness`, `Insulin`, and `BMI`. Do you notice anything unusual?\n",
        "4. Examine the unique values and their counts for the `Outcome` column using `.value_counts()`. Is the dataset balanced in terms of the outcome variable?"
      ]
    },
    {
      "cell_type": "code",
      "execution_count": 3,
      "metadata": {
        "id": "lAycsE1dTG_F"
      },
      "outputs": [
        {
          "name": "stdout",
          "output_type": "stream",
          "text": [
            "     Pregnancies  Glucose  BloodPressure  SkinThickness  Insulin   BMI  \\\n",
            "761            9      170             74             31        0  44.0   \n",
            "762            9       89             62              0        0  22.5   \n",
            "763           10      101             76             48      180  32.9   \n",
            "764            2      122             70             27        0  36.8   \n",
            "765            5      121             72             23      112  26.2   \n",
            "766            1      126             60              0        0  30.1   \n",
            "767            1       93             70             31        0  30.4   \n",
            "\n",
            "     DiabetesPedigreeFunction  Age  Outcome  \n",
            "761                     0.403   43        1  \n",
            "762                     0.142   33        0  \n",
            "763                     0.171   63        0  \n",
            "764                     0.340   27        0  \n",
            "765                     0.245   30        0  \n",
            "766                     0.349   47        1  \n",
            "767                     0.315   23        0  \n"
          ]
        }
      ],
      "source": [
        "# Your code for Exercise 1.1\n",
        "print(diabetes_df.tail(7))"
      ]
    },
    {
      "cell_type": "code",
      "execution_count": 4,
      "metadata": {
        "id": "bKaQRcoWTG_G"
      },
      "outputs": [
        {
          "name": "stdout",
          "output_type": "stream",
          "text": [
            "<class 'pandas.core.frame.DataFrame'>\n",
            "RangeIndex: 768 entries, 0 to 767\n",
            "Data columns (total 9 columns):\n",
            " #   Column                    Non-Null Count  Dtype  \n",
            "---  ------                    --------------  -----  \n",
            " 0   Pregnancies               768 non-null    int64  \n",
            " 1   Glucose                   768 non-null    int64  \n",
            " 2   BloodPressure             768 non-null    int64  \n",
            " 3   SkinThickness             768 non-null    int64  \n",
            " 4   Insulin                   768 non-null    int64  \n",
            " 5   BMI                       768 non-null    float64\n",
            " 6   DiabetesPedigreeFunction  768 non-null    float64\n",
            " 7   Age                       768 non-null    int64  \n",
            " 8   Outcome                   768 non-null    int64  \n",
            "dtypes: float64(2), int64(7)\n",
            "memory usage: 54.1 KB\n",
            "None\n"
          ]
        }
      ],
      "source": [
        "# Your code for Exercise 1.2\n",
        "print(diabetes_df.info())"
      ]
    },
    {
      "cell_type": "code",
      "execution_count": 5,
      "metadata": {
        "id": "w6Hpw8feTG_G"
      },
      "outputs": [
        {
          "name": "stdout",
          "output_type": "stream",
          "text": [
            "       Pregnancies     Glucose  BloodPressure  SkinThickness     Insulin  \\\n",
            "count   768.000000  768.000000     768.000000     768.000000  768.000000   \n",
            "mean      3.845052  120.894531      69.105469      20.536458   79.799479   \n",
            "std       3.369578   31.972618      19.355807      15.952218  115.244002   \n",
            "min       0.000000    0.000000       0.000000       0.000000    0.000000   \n",
            "25%       1.000000   99.000000      62.000000       0.000000    0.000000   \n",
            "50%       3.000000  117.000000      72.000000      23.000000   30.500000   \n",
            "75%       6.000000  140.250000      80.000000      32.000000  127.250000   \n",
            "max      17.000000  199.000000     122.000000      99.000000  846.000000   \n",
            "\n",
            "              BMI  DiabetesPedigreeFunction         Age     Outcome  \n",
            "count  768.000000                768.000000  768.000000  768.000000  \n",
            "mean    31.992578                  0.471876   33.240885    0.348958  \n",
            "std      7.884160                  0.331329   11.760232    0.476951  \n",
            "min      0.000000                  0.078000   21.000000    0.000000  \n",
            "25%     27.300000                  0.243750   24.000000    0.000000  \n",
            "50%     32.000000                  0.372500   29.000000    0.000000  \n",
            "75%     36.600000                  0.626250   41.000000    1.000000  \n",
            "max     67.100000                  2.420000   81.000000    1.000000  \n"
          ]
        }
      ],
      "source": [
        "# Your code for Exercise 1.3\n",
        "print(diabetes_df.describe())"
      ]
    },
    {
      "cell_type": "code",
      "execution_count": 7,
      "metadata": {
        "id": "47f1vOPYTG_G"
      },
      "outputs": [
        {
          "name": "stdout",
          "output_type": "stream",
          "text": [
            "Outcome\n",
            "0    500\n",
            "1    268\n",
            "Name: count, dtype: int64\n"
          ]
        }
      ],
      "source": [
        "# Your code for Exercise 1.4\n",
        "print(diabetes_df['Outcome'].value_counts())"
      ]
    },
    {
      "cell_type": "markdown",
      "metadata": {
        "id": "32MZ7jyzTG_I"
      },
      "source": [
        "### Exercise 2: Basic Data Filtering and Selection\n",
        "\n",
        "1. Select and display only the `Age` and `BMI` columns for the first 10 patients.\n",
        "2. Filter the DataFrame to show only the patients who tested positive for diabetes (`Outcome` is 1).\n",
        "3. Calculate the average `Glucose` level for patients who tested negative for diabetes (`Outcome` is 0)."
      ]
    },
    {
      "cell_type": "code",
      "execution_count": 8,
      "metadata": {
        "id": "f0qGJODDTG_I"
      },
      "outputs": [
        {
          "name": "stdout",
          "output_type": "stream",
          "text": [
            "   Age   BMI\n",
            "0   50  33.6\n",
            "1   31  26.6\n",
            "2   32  23.3\n",
            "3   21  28.1\n",
            "4   33  43.1\n",
            "5   30  25.6\n",
            "6   26  31.0\n",
            "7   29  35.3\n",
            "8   53  30.5\n",
            "9   54   0.0\n"
          ]
        }
      ],
      "source": [
        "# Your code for Exercise 2.1\n",
        "print(diabetes_df[[\"Age\", \"BMI\"]].head(10))"
      ]
    },
    {
      "cell_type": "code",
      "execution_count": 14,
      "metadata": {
        "id": "WwDUE_NeTG_J"
      },
      "outputs": [
        {
          "data": {
            "application/vnd.microsoft.datawrangler.viewer.v0+json": {
              "columns": [
                {
                  "name": "index",
                  "rawType": "int64",
                  "type": "integer"
                },
                {
                  "name": "Pregnancies",
                  "rawType": "int64",
                  "type": "integer"
                },
                {
                  "name": "Glucose",
                  "rawType": "int64",
                  "type": "integer"
                },
                {
                  "name": "BloodPressure",
                  "rawType": "int64",
                  "type": "integer"
                },
                {
                  "name": "SkinThickness",
                  "rawType": "int64",
                  "type": "integer"
                },
                {
                  "name": "Insulin",
                  "rawType": "int64",
                  "type": "integer"
                },
                {
                  "name": "BMI",
                  "rawType": "float64",
                  "type": "float"
                },
                {
                  "name": "DiabetesPedigreeFunction",
                  "rawType": "float64",
                  "type": "float"
                },
                {
                  "name": "Age",
                  "rawType": "int64",
                  "type": "integer"
                },
                {
                  "name": "Outcome",
                  "rawType": "int64",
                  "type": "integer"
                }
              ],
              "ref": "c7fb7418-799b-4936-a07d-52307595e3d2",
              "rows": [
                [
                  "0",
                  "6",
                  "148",
                  "72",
                  "35",
                  "0",
                  "33.6",
                  "0.627",
                  "50",
                  "1"
                ],
                [
                  "2",
                  "8",
                  "183",
                  "64",
                  "0",
                  "0",
                  "23.3",
                  "0.672",
                  "32",
                  "1"
                ],
                [
                  "4",
                  "0",
                  "137",
                  "40",
                  "35",
                  "168",
                  "43.1",
                  "2.288",
                  "33",
                  "1"
                ],
                [
                  "6",
                  "3",
                  "78",
                  "50",
                  "32",
                  "88",
                  "31.0",
                  "0.248",
                  "26",
                  "1"
                ],
                [
                  "8",
                  "2",
                  "197",
                  "70",
                  "45",
                  "543",
                  "30.5",
                  "0.158",
                  "53",
                  "1"
                ],
                [
                  "9",
                  "8",
                  "125",
                  "96",
                  "0",
                  "0",
                  "0.0",
                  "0.232",
                  "54",
                  "1"
                ],
                [
                  "11",
                  "10",
                  "168",
                  "74",
                  "0",
                  "0",
                  "38.0",
                  "0.537",
                  "34",
                  "1"
                ],
                [
                  "13",
                  "1",
                  "189",
                  "60",
                  "23",
                  "846",
                  "30.1",
                  "0.398",
                  "59",
                  "1"
                ],
                [
                  "14",
                  "5",
                  "166",
                  "72",
                  "19",
                  "175",
                  "25.8",
                  "0.587",
                  "51",
                  "1"
                ],
                [
                  "15",
                  "7",
                  "100",
                  "0",
                  "0",
                  "0",
                  "30.0",
                  "0.484",
                  "32",
                  "1"
                ]
              ],
              "shape": {
                "columns": 9,
                "rows": 10
              }
            },
            "text/html": [
              "<div>\n",
              "<style scoped>\n",
              "    .dataframe tbody tr th:only-of-type {\n",
              "        vertical-align: middle;\n",
              "    }\n",
              "\n",
              "    .dataframe tbody tr th {\n",
              "        vertical-align: top;\n",
              "    }\n",
              "\n",
              "    .dataframe thead th {\n",
              "        text-align: right;\n",
              "    }\n",
              "</style>\n",
              "<table border=\"1\" class=\"dataframe\">\n",
              "  <thead>\n",
              "    <tr style=\"text-align: right;\">\n",
              "      <th></th>\n",
              "      <th>Pregnancies</th>\n",
              "      <th>Glucose</th>\n",
              "      <th>BloodPressure</th>\n",
              "      <th>SkinThickness</th>\n",
              "      <th>Insulin</th>\n",
              "      <th>BMI</th>\n",
              "      <th>DiabetesPedigreeFunction</th>\n",
              "      <th>Age</th>\n",
              "      <th>Outcome</th>\n",
              "    </tr>\n",
              "  </thead>\n",
              "  <tbody>\n",
              "    <tr>\n",
              "      <th>0</th>\n",
              "      <td>6</td>\n",
              "      <td>148</td>\n",
              "      <td>72</td>\n",
              "      <td>35</td>\n",
              "      <td>0</td>\n",
              "      <td>33.6</td>\n",
              "      <td>0.627</td>\n",
              "      <td>50</td>\n",
              "      <td>1</td>\n",
              "    </tr>\n",
              "    <tr>\n",
              "      <th>2</th>\n",
              "      <td>8</td>\n",
              "      <td>183</td>\n",
              "      <td>64</td>\n",
              "      <td>0</td>\n",
              "      <td>0</td>\n",
              "      <td>23.3</td>\n",
              "      <td>0.672</td>\n",
              "      <td>32</td>\n",
              "      <td>1</td>\n",
              "    </tr>\n",
              "    <tr>\n",
              "      <th>4</th>\n",
              "      <td>0</td>\n",
              "      <td>137</td>\n",
              "      <td>40</td>\n",
              "      <td>35</td>\n",
              "      <td>168</td>\n",
              "      <td>43.1</td>\n",
              "      <td>2.288</td>\n",
              "      <td>33</td>\n",
              "      <td>1</td>\n",
              "    </tr>\n",
              "    <tr>\n",
              "      <th>6</th>\n",
              "      <td>3</td>\n",
              "      <td>78</td>\n",
              "      <td>50</td>\n",
              "      <td>32</td>\n",
              "      <td>88</td>\n",
              "      <td>31.0</td>\n",
              "      <td>0.248</td>\n",
              "      <td>26</td>\n",
              "      <td>1</td>\n",
              "    </tr>\n",
              "    <tr>\n",
              "      <th>8</th>\n",
              "      <td>2</td>\n",
              "      <td>197</td>\n",
              "      <td>70</td>\n",
              "      <td>45</td>\n",
              "      <td>543</td>\n",
              "      <td>30.5</td>\n",
              "      <td>0.158</td>\n",
              "      <td>53</td>\n",
              "      <td>1</td>\n",
              "    </tr>\n",
              "    <tr>\n",
              "      <th>9</th>\n",
              "      <td>8</td>\n",
              "      <td>125</td>\n",
              "      <td>96</td>\n",
              "      <td>0</td>\n",
              "      <td>0</td>\n",
              "      <td>0.0</td>\n",
              "      <td>0.232</td>\n",
              "      <td>54</td>\n",
              "      <td>1</td>\n",
              "    </tr>\n",
              "    <tr>\n",
              "      <th>11</th>\n",
              "      <td>10</td>\n",
              "      <td>168</td>\n",
              "      <td>74</td>\n",
              "      <td>0</td>\n",
              "      <td>0</td>\n",
              "      <td>38.0</td>\n",
              "      <td>0.537</td>\n",
              "      <td>34</td>\n",
              "      <td>1</td>\n",
              "    </tr>\n",
              "    <tr>\n",
              "      <th>13</th>\n",
              "      <td>1</td>\n",
              "      <td>189</td>\n",
              "      <td>60</td>\n",
              "      <td>23</td>\n",
              "      <td>846</td>\n",
              "      <td>30.1</td>\n",
              "      <td>0.398</td>\n",
              "      <td>59</td>\n",
              "      <td>1</td>\n",
              "    </tr>\n",
              "    <tr>\n",
              "      <th>14</th>\n",
              "      <td>5</td>\n",
              "      <td>166</td>\n",
              "      <td>72</td>\n",
              "      <td>19</td>\n",
              "      <td>175</td>\n",
              "      <td>25.8</td>\n",
              "      <td>0.587</td>\n",
              "      <td>51</td>\n",
              "      <td>1</td>\n",
              "    </tr>\n",
              "    <tr>\n",
              "      <th>15</th>\n",
              "      <td>7</td>\n",
              "      <td>100</td>\n",
              "      <td>0</td>\n",
              "      <td>0</td>\n",
              "      <td>0</td>\n",
              "      <td>30.0</td>\n",
              "      <td>0.484</td>\n",
              "      <td>32</td>\n",
              "      <td>1</td>\n",
              "    </tr>\n",
              "  </tbody>\n",
              "</table>\n",
              "</div>"
            ],
            "text/plain": [
              "    Pregnancies  Glucose  BloodPressure  SkinThickness  Insulin   BMI  \\\n",
              "0             6      148             72             35        0  33.6   \n",
              "2             8      183             64              0        0  23.3   \n",
              "4             0      137             40             35      168  43.1   \n",
              "6             3       78             50             32       88  31.0   \n",
              "8             2      197             70             45      543  30.5   \n",
              "9             8      125             96              0        0   0.0   \n",
              "11           10      168             74              0        0  38.0   \n",
              "13            1      189             60             23      846  30.1   \n",
              "14            5      166             72             19      175  25.8   \n",
              "15            7      100              0              0        0  30.0   \n",
              "\n",
              "    DiabetesPedigreeFunction  Age  Outcome  \n",
              "0                      0.627   50        1  \n",
              "2                      0.672   32        1  \n",
              "4                      2.288   33        1  \n",
              "6                      0.248   26        1  \n",
              "8                      0.158   53        1  \n",
              "9                      0.232   54        1  \n",
              "11                     0.537   34        1  \n",
              "13                     0.398   59        1  \n",
              "14                     0.587   51        1  \n",
              "15                     0.484   32        1  "
            ]
          },
          "execution_count": 14,
          "metadata": {},
          "output_type": "execute_result"
        }
      ],
      "source": [
        "# Your code for Exercise 2.2\n",
        "diabetes_df[diabetes_df['Outcome']==1].head(10)"
      ]
    },
    {
      "cell_type": "code",
      "execution_count": 15,
      "metadata": {
        "id": "eagf0-yPTG_J"
      },
      "outputs": [
        {
          "data": {
            "text/plain": [
              "np.float64(109.98)"
            ]
          },
          "execution_count": 15,
          "metadata": {},
          "output_type": "execute_result"
        }
      ],
      "source": [
        "# Your code for Exercise 2.3\n",
        "diabetes_df[diabetes_df['Outcome'] == 0]['Glucose'].mean()"
      ]
    },
    {
      "cell_type": "markdown",
      "metadata": {
        "id": "h8-9Mh4UTG_J"
      },
      "source": [
        "### Exercise 3: Simple Visualization\n",
        "\n",
        "1. Create a histogram for the `Age` column to visualize the age distribution of patients.\n",
        "2. Generate a histogram for the `BMI` column.\n",
        "3. Use seaborn's `countplot` to visualize the distribution of the `Outcome` variable (number of diabetic vs non-diabetic patients)."
      ]
    },
    {
      "cell_type": "code",
      "execution_count": null,
      "metadata": {
        "id": "eU5DPH6ATG_J"
      },
      "outputs": [],
      "source": [
        "# Your code for Exercise 3.1\n"
      ]
    },
    {
      "cell_type": "code",
      "execution_count": null,
      "metadata": {
        "id": "14lfpleQTG_K"
      },
      "outputs": [],
      "source": [
        "# Your code for Exercise 3.2\n"
      ]
    },
    {
      "cell_type": "code",
      "execution_count": null,
      "metadata": {
        "id": "GP-qXgMsTG_K"
      },
      "outputs": [],
      "source": [
        "# Your code for Exercise 3.3\n"
      ]
    },
    {
      "cell_type": "markdown",
      "metadata": {
        "id": "RJej8ymWTG_K"
      },
      "source": [
        "## Intermediate Exercises (Approx. 45-60 minutes)\n",
        "\n",
        "These exercises delve into data cleaning, manipulation, and basic feature engineering."
      ]
    },
    {
      "cell_type": "markdown",
      "metadata": {
        "id": "G2RS_4l8TG_L"
      },
      "source": [
        "### Exercise 4: Handling Missing Data (Implicit Missing Values)\n",
        "\n",
        "As observed in Exercise 1.3, some columns have a minimum value of 0, which might represent missing data (e.g., a blood pressure of 0 is biologically impossible).\n",
        "\n",
        "1. For the `Glucose`, `BloodPressure`, `SkinThickness`, `Insulin`, and `BMI` columns, replace the 0 values with `NaN` (Not a Number) to explicitly mark them as missing.\n",
        "2. Verify the number of missing values in these columns after the replacement using `.info()` or `.isnull().sum()`. Which column has the most missing values now?\n",
        "3. Choose an imputation strategy for the missing numerical values (e.g., replace with the mean or median of the respective column). Justify your choice.\n",
        "4. Apply the chosen imputation strategy to fill the `NaN` values in the affected columns. Verify that there are no more missing values in these columns."
      ]
    },
    {
      "cell_type": "code",
      "execution_count": null,
      "metadata": {
        "id": "0UTeP68FTG_L"
      },
      "outputs": [],
      "source": [
        "# Your code for Exercise 4.1\n"
      ]
    },
    {
      "cell_type": "code",
      "execution_count": null,
      "metadata": {
        "id": "SN4gr4NiTG_L"
      },
      "outputs": [],
      "source": [
        "# Your code for Exercise 4.2\n"
      ]
    },
    {
      "cell_type": "code",
      "execution_count": null,
      "metadata": {
        "id": "aB6G_T4WTG_L"
      },
      "outputs": [],
      "source": [
        "# Your code for Exercise 4.3 (Add comments for justification)\n"
      ]
    },
    {
      "cell_type": "code",
      "execution_count": null,
      "metadata": {
        "id": "UDrWZq_2TG_L"
      },
      "outputs": [],
      "source": [
        "# Your code for Exercise 4.4\n"
      ]
    },
    {
      "cell_type": "markdown",
      "metadata": {
        "id": "BaeLow4PTG_M"
      },
      "source": [
        "### Exercise 5: Creating New Features (Feature Engineering)\n",
        "\n",
        "Create a new categorical feature based on the `Age` column.\n",
        "\n",
        "1. Define age bins (e.g., '0-20', '21-30', '31-40', '41-50', '51+').\n",
        "2. Create a new column called `AgeGroup` by categorizing the `Age` values into these bins.\n",
        "3. Display the value counts for the new `AgeGroup` column."
      ]
    },
    {
      "cell_type": "code",
      "execution_count": null,
      "metadata": {
        "id": "VYsNIvePTG_M"
      },
      "outputs": [],
      "source": [
        "# Your code for Exercise 5.1, 5.2, and 5.3\n"
      ]
    },
    {
      "cell_type": "markdown",
      "metadata": {
        "id": "5uA7HRX8TG_M"
      },
      "source": [
        "### Exercise 6: Exploring Correlations\n",
        "\n",
        "1. Compute the correlation matrix for the numerical features in the DataFrame using `.corr()`.\n",
        "2. Display the correlations of all numerical features with the `Outcome` variable, sorted in descending order. Which features have the strongest positive and negative correlations with diabetes outcome?\n",
        "3. Use seaborn's `heatmap` to visualize the correlation matrix. Interpret the relationships between different features."
      ]
    },
    {
      "cell_type": "code",
      "execution_count": null,
      "metadata": {
        "id": "AY0XNIXLTG_M"
      },
      "outputs": [],
      "source": [
        "# Your code for Exercise 6.1\n"
      ]
    },
    {
      "cell_type": "code",
      "execution_count": null,
      "metadata": {
        "id": "umaz-4btTG_M"
      },
      "outputs": [],
      "source": [
        "# Your code for Exercise 6.2\n"
      ]
    },
    {
      "cell_type": "code",
      "execution_count": null,
      "metadata": {
        "id": "anTBwos8TG_N"
      },
      "outputs": [],
      "source": [
        "# Your code for Exercise 6.3\n"
      ]
    },
    {
      "cell_type": "markdown",
      "metadata": {
        "id": "TOrMuGzPTG_N"
      },
      "source": [
        "## Advanced Exercises (Approx. 30-45 minutes, potentially carrying over into self-study)\n",
        "\n",
        "These exercises challenge students with more complex data transformations and analysis."
      ]
    },
    {
      "cell_type": "markdown",
      "metadata": {
        "id": "Wt-Y7ipITG_N"
      },
      "source": [
        "### Exercise 7: Analyzing Relationships with Outcome\n",
        "\n",
        "Use visualizations to explore the relationship between different features and the `Outcome` (diabetes positive or negative).\n",
        "\n",
        "1. Create a violin plot using seaborn to visualize the distribution of `Age` for both `Outcome` groups (0 and 1).\n",
        "2. Create a scatter plot of `Glucose` vs `BMI`, coloring the points based on the `Outcome` variable.\n",
        "3. Use seaborn's `boxplot` to compare the distribution of `BloodPressure` across different `AgeGroup` categories (created in Exercise 5)."
      ]
    },
    {
      "cell_type": "code",
      "execution_count": null,
      "metadata": {
        "id": "bb3Fl0_ATG_N"
      },
      "outputs": [],
      "source": [
        "# Your code for Exercise 7.1\n"
      ]
    },
    {
      "cell_type": "code",
      "execution_count": null,
      "metadata": {
        "id": "9oUbucMtTG_N"
      },
      "outputs": [],
      "source": [
        "# Your code for Exercise 7.2\n"
      ]
    },
    {
      "cell_type": "code",
      "execution_count": null,
      "metadata": {
        "id": "hkveS6m0TG_O"
      },
      "outputs": [],
      "source": [
        "# Your code for Exercise 7.3\n"
      ]
    },
    {
      "cell_type": "markdown",
      "metadata": {
        "id": "0BfK4Iw4TG_O"
      },
      "source": [
        "### Exercise 8: Outlier Identification (Visualization Based)\n",
        "\n",
        "Use box plots to visually identify potential outliers in some of the key numerical features.\n",
        "\n",
        "1. Create box plots for `Glucose`, `BloodPressure`, `Insulin`, and `BMI`.\n",
        "2. Discuss what outliers might represent in this medical dataset and how they could potentially affect machine learning models."
      ]
    },
    {
      "cell_type": "code",
      "execution_count": null,
      "metadata": {
        "id": "lZH6SqzSTG_O"
      },
      "outputs": [],
      "source": [
        "# Your code for Exercise 8.1\n"
      ]
    },
    {
      "cell_type": "markdown",
      "metadata": {
        "id": "jBy-Ol6WTG_O"
      },
      "source": [
        "### Exercise 9: (Optional Stretch) Further Feature Engineering or Analysis\n",
        "\n",
        "Choose one of the following (or come up with your own idea):\n",
        "\n",
        "1. Create a new feature that combines `BMI` and `Age` based on common health knowledge (e.g., BMI categories for different age groups).\n",
        "2. Investigate the distribution of `DiabetesPedigreeFunction` and its relationship with the `Outcome`."
      ]
    },
    {
      "cell_type": "code",
      "execution_count": null,
      "metadata": {
        "id": "BocviGM1TG_P"
      },
      "outputs": [],
      "source": [
        "# Your code or notes for Exercise 9\n"
      ]
    }
  ],
  "metadata": {
    "colab": {
      "provenance": []
    },
    "kernelspec": {
      "display_name": "Python 3",
      "language": "python",
      "name": "python3"
    },
    "language_info": {
      "codemirror_mode": {
        "name": "ipython",
        "version": 3
      },
      "file_extension": ".py",
      "mimetype": "text/x-python",
      "name": "python",
      "nbconvert_exporter": "python",
      "pygments_lexer": "ipython3",
      "version": "3.13.2"
    }
  },
  "nbformat": 4,
  "nbformat_minor": 0
}
